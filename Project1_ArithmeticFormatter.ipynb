{
 "cells": [
  {
   "cell_type": "code",
   "execution_count": 59,
   "id": "867a53a3",
   "metadata": {},
   "outputs": [],
   "source": [
    "problems = [\"32 + 5639\", \"3801 - 2\", \"13 + 34\", \"130 - 149\"];"
   ]
  },
  {
   "cell_type": "code",
   "execution_count": 60,
   "id": "4cde5679",
   "metadata": {},
   "outputs": [],
   "source": [
    "def arithmetic_arranger(probs, *args):\n",
    "    if len(probs) > 5:\n",
    "            return \"Error: Too many problems.\"\n",
    "    \n",
    "    varrangedp = [] # empty array for the vertically arranged version of the each problem\n",
    "                       # to be filled with a loop later\n",
    "    for item in probs:\n",
    "        sp = item.split()# Splitting each problem as [\"12\",\"+\",\"330\"]\n",
    "                    \n",
    "        if sp[1] not in '+-':\n",
    "            return \"Error: Operator must be '+' or '-'.\"\n",
    "        if len(sp[0]) > 4 or len(sp[2]) > 4:\n",
    "            return \"Error: Numbers cannot be more than four digits.\"\n",
    "        if sp[0].isdigit() != True or sp[2].isdigit() != True:  \n",
    "            return \"Error: Numbers must only contain digits.\"\n",
    "                \n",
    "        ln = max(len(sp[0]),len(sp[2])) # Find the length of the longest number in each problem\n",
    "        tw = ln + 2 # Since there should be a ' ' between the longest number, the tw of the problem                               (which also determines the length of the dashes) should be ln + 2\n",
    "                                        \n",
    "            \n",
    "        ans = eval(f\"{sp[0]} {sp[1]} {sp[2]}\") # Answer of the problem as an int\n",
    "        sans = str(ans) # answer of the problem as a string\n",
    "\n",
    "                         \n",
    "        if int(sp[0]) <= int(sp[2]):\n",
    "            varranged = f\"{sp[0]:>{tw}}\\n{f'{sp[1]} {sp[2]:>}'}\\n{'-' * tw}\\n{f'{sans:>{tw}}'}\" \n",
    "                # varranged returns a vertically aranged problems  \n",
    "                                                                                 \n",
    "        elif int(sp[0]) > int(sp[2]):                                        \n",
    "            varranged = f\"{sp[0]:>{tw}}\\n{f'{sp[1]} {sp[2]:>{ln}}'}\\n{'-' * tw}\\n{f'{sans:>{tw}}'}\" \n",
    "            \n",
    "        varrangedp.append(varranged) # Populating the array we defined earlier\n",
    "  \n",
    "    fparse = [items.split(\"\\n\") for items in varrangedp] # easier to print arranged problems line by line \n",
    "                                                       # fparse is a list of lists containing\n",
    "                                                       # ['  326', '+ 5549','------']\n",
    "                                                       # so that the splitting is done w.r.t \\n    \n",
    "\n",
    "    L1 = [fparse[i][0] for i in range(0,len(probs))]# Line 1 built out of the first elements of the lists in fparse      \n",
    "    L2 = [fparse[i][1] for i in range(0,len(probs))]# ....\n",
    "    L3 = [fparse[i][2] for i in range(0,len(probs))]# ....\n",
    "    L4 = [fparse[i][3] for i in range(0,len(probs))]# ....       \n",
    "    line1 = \"    \".join(L1)\n",
    "    line2 = \"    \".join(L2)\n",
    "    line3 = \"    \".join(L3)\n",
    "    line4 = \"    \".join(L4)\n",
    "    \n",
    "    \n",
    "    if args:\n",
    "        arranged_problems = f\"{line1}\\n{line2}\\n{line3}\\n{line4}\"\n",
    "    else:\n",
    "        arranged_problems = f\"{line1}\\n{line2}\\n{line3}\"\n",
    "    return arranged_problems\n",
    "  #fparsezipped = zip(*fparse)  # Optional way after fparse line above: \n",
    "                                # here zip matches the elements of the inner lists as a tuple :\n",
    "                                # like (1ofprob1, 1ofprob2, 1ofprob3, 1ofprob4, 1ofprob5)\n",
    "        \n",
    "  #for elements in fparsezipped:\n",
    "  #               arranged_problems = \"    \".join(elements) # join the elements of the tuple with 4 spaces as requested   \n",
    "  #               print(arranged_problems)                  # Prints "
   ]
  },
  {
   "cell_type": "code",
   "execution_count": 61,
   "id": "27ba87c5",
   "metadata": {},
   "outputs": [
    {
     "name": "stdout",
     "output_type": "stream",
     "text": [
      "    32      3801      13      130\n",
      "+ 5639    -    2    + 34    - 149\n",
      "------    ------    ----    -----\n"
     ]
    }
   ],
   "source": [
    "print(arithmetic_arranger(problems))"
   ]
  },
  {
   "cell_type": "code",
   "execution_count": null,
   "id": "43f3bcec",
   "metadata": {},
   "outputs": [],
   "source": []
  }
 ],
 "metadata": {
  "kernelspec": {
   "display_name": "Python 3 (ipykernel)",
   "language": "python",
   "name": "python3"
  },
  "language_info": {
   "codemirror_mode": {
    "name": "ipython",
    "version": 3
   },
   "file_extension": ".py",
   "mimetype": "text/x-python",
   "name": "python",
   "nbconvert_exporter": "python",
   "pygments_lexer": "ipython3",
   "version": "3.9.12"
  }
 },
 "nbformat": 4,
 "nbformat_minor": 5
}
