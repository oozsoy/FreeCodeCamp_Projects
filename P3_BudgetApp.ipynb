{
 "cells": [
  {
   "cell_type": "code",
   "execution_count": 156,
   "id": "dfb2ae41",
   "metadata": {},
   "outputs": [],
   "source": [
    "class Category:\n",
    "   \n",
    "    \n",
    "    def __init__(self, name):\n",
    "        self.name = name\n",
    "        self.ledger = []\n",
    "        self.tamount = 00.00\n",
    "      \n",
    "    def __repr__(self):      # a special method used to represent a class's objects as a string\n",
    "        \n",
    "        title = self.name\n",
    "        ctitle = title.center(30,'*')\n",
    "        tl = f\"{ctitle}\\n\"\n",
    "        tot = 0\n",
    "        \n",
    "        for item in self.ledger:\n",
    "            \n",
    "            tl += f'{item[\"description\"][:23]:<23}{item[\"amount\"]:>{7}.2f}\\n'\n",
    "            tot += item[\"amount\"]           # add all the amounts to get the sum total \n",
    "            \n",
    "        tl += f\"Total: {tot}\"\n",
    "        return(tl)\n",
    "\n",
    "\n",
    "    def deposit(self, amount, *args):\n",
    "        \n",
    "        self.tamount += amount\n",
    "        \n",
    "        if args:\n",
    "            \n",
    "            description = args[0]       # if optional argument is passed set description to it\n",
    "            \n",
    "        else:\n",
    "            \n",
    "            description = ' '           # else set the description to an empty string as requested in the problem\n",
    "        \n",
    "        self.ledger.append({\"amount\": amount, \"description\": description})\n",
    "        \n",
    "    def withdraw(self, amount, *args):\n",
    "        \n",
    "        check_withdraw = self.check_funds(amount) # check if there is enough money to withdraw using check_funds\n",
    "        \n",
    "        if args:\n",
    "            \n",
    "            description = args[0]   \n",
    "            \n",
    "        else:\n",
    "            \n",
    "            description = ' '        \n",
    "        \n",
    "        if check_withdraw:\n",
    "            \n",
    "            self.tamount -= amount\n",
    "            self.ledger.append({\"amount\": -amount, \"description\": description})\n",
    "            return check_withdraw\n",
    "        \n",
    "        else:\n",
    "            \n",
    "            return check_withdraw\n",
    "       \n",
    "\n",
    "    def get_balance(self):\n",
    "        return self.tamount\n",
    "\n",
    "    def transfer(self, amount, Tto):\n",
    "        check_transfer = self.check_funds(amount)\n",
    "        \n",
    "        if check_transfer:\n",
    "            \n",
    "            self.withdraw(amount, f\"Transfer to {Tto.name}\")\n",
    "            Tto.deposit(amount, f\"Transfer from {self.name}\")\n",
    "            \n",
    "            return check_transfer\n",
    "            \n",
    "        else:\n",
    "             return check_transfer\n",
    "\n",
    "    def check_funds(self, amount):\n",
    "        if amount > self.tamount:\n",
    "            return False\n",
    "        else:\n",
    "            return True"
   ]
  },
  {
   "cell_type": "code",
   "execution_count": 157,
   "id": "f8843961",
   "metadata": {},
   "outputs": [
    {
     "data": {
      "text/plain": [
       "True"
      ]
     },
     "execution_count": 157,
     "metadata": {},
     "output_type": "execute_result"
    }
   ],
   "source": [
    "food = Category('Food')\n",
    "#clothing = Category('Clothing')\n",
    "entertaintment = Category('Entertainment')\n",
    "bizness = Category('Business')\n",
    "\n",
    "\n",
    "#print(food.name)\n",
    "#print(clothing.name)\n",
    "\n",
    "food.deposit(900,'deposit')\n",
    "#food.transfer(20, clothing)\n",
    "entertaintment.deposit(900, 'deposit')\n",
    "bizness.deposit(900,'deposit')\n",
    "\n",
    "food.withdraw(105.55)\n",
    "entertaintment.withdraw(33.40)\n",
    "bizness.withdraw(10.99)\n",
    "\n",
    "#clothing.deposit(100, 'Extra Cash')\n",
    "#clothing.transfer(15, bizness)\n",
    "\n",
    "#print(food.ledger)\n",
    "#print(clothing.ledger)\n",
    "\n",
    "#print(food.get_balance())\n",
    "#print(clothing.get_balance())"
   ]
  },
  {
   "cell_type": "code",
   "execution_count": 158,
   "id": "ff872dda",
   "metadata": {},
   "outputs": [
    {
     "name": "stdout",
     "output_type": "stream",
     "text": [
      "*************Food*************\n",
      "deposit                 900.00\n",
      "                       -105.55\n",
      "Total: 794.45\n"
     ]
    }
   ],
   "source": [
    "print(food)"
   ]
  },
  {
   "cell_type": "code",
   "execution_count": 159,
   "id": "956b95bf",
   "metadata": {},
   "outputs": [
    {
     "name": "stdout",
     "output_type": "stream",
     "text": [
      "********Entertainment*********\n",
      "deposit                 900.00\n",
      "                        -33.40\n",
      "Total: 866.6\n"
     ]
    }
   ],
   "source": [
    "print(entertaintment)"
   ]
  },
  {
   "cell_type": "code",
   "execution_count": 160,
   "id": "afa1a817",
   "metadata": {},
   "outputs": [
    {
     "name": "stdout",
     "output_type": "stream",
     "text": [
      "***********Business***********\n",
      "deposit                 900.00\n",
      "                        -10.99\n",
      "Total: 889.01\n"
     ]
    }
   ],
   "source": [
    "print(bizness)"
   ]
  },
  {
   "cell_type": "code",
   "execution_count": 187,
   "id": "73ed92ab",
   "metadata": {},
   "outputs": [],
   "source": [
    "def create_spend_chart(categories):\n",
    "    \n",
    "    chartt = \"Percentage spent by category\\n\" #title of the chart,additional lines will be added recursively below\n",
    "    \n",
    "    totspend = 0 #total spendature of all categories, will be calculated through withdrawals \n",
    "    cats = {}    # empty dictionary filled later \n",
    "    \n",
    "    for cat in categories: # categories is a list of [food, clothing, entertaintment, etc]\n",
    "        \n",
    "        cat_totspend = 0 # spendature within a category\n",
    "        \n",
    "        for item in cat.ledger: \n",
    "            \n",
    "            totw = item[\"amount\"]\n",
    "            \n",
    "            if totw < 0: # all withdrawals have a negative value, so use it to populate total spendature\n",
    "                         # and spendature in each category : food, entertaintment, clothing etc..   \n",
    "                \n",
    "                totspend += totw\n",
    "                \n",
    "                cat_totspend += totw\n",
    "                \n",
    "        cats[cat.name] = abs(cat_totspend) # fill the dictionary cats with values using cat.name keys: i.e food,\n",
    "                                           # clothing, entertaintment\n",
    "    \n",
    "    \n",
    "    totspend = abs(totspend)  # sum of all spendatures : food + entertaintment + clothing  \n",
    "    \n",
    "    for key, val in cats.items():  # for all key-value pairs in cats dictionary which is a dictionary\n",
    "                                   # for each category, calculate the percentage and overwrite the cats dictionary\n",
    "                                   # with same keys but including values as percentages\n",
    "        percent = (val/totspend) * 100\n",
    "        cats[key] = percent\n",
    "        \n",
    "        \n",
    "    for n in range(100, -1, -10):\n",
    "        \n",
    "        chartt += f\"{str(n)+'|':>4}\" # add the percentages below the title one by one with correct padding\n",
    "        \n",
    "        for val in cats.values():\n",
    "            \n",
    "            if val >= n:\n",
    "                \n",
    "                chartt += \" o \"       # add \" o \" on the side of percentage if values in cats \\geq percentage \n",
    "            else:\n",
    "                 chartt += '   '      # else \"   \"               \n",
    "        \n",
    "        chartt += \" \\n\"                # go to the next line and repeat for different percentage 90, 80, ... 10, 0\n",
    "        \n",
    "    n = len(cats.values())                     # adding dashes below starting right of the | : for n category there\n",
    "                                               # n+1 extra lines in the dashes, each category takes up 2 spaces\n",
    "    chartt += f\"    {((n*2) + (n+1))* '-'}\\n\"\n",
    "    \n",
    "    # Now try to add the category names vertically below the bars \n",
    "    \n",
    "    cat_names = cats.keys()    \n",
    "    max_l = max(len(x) for x in cat_names)   # find the string length of the longest category\n",
    "    \n",
    "    for i in range(max_l):        # think of the structure vertically: i = 0 is the first letter (top) of all the \n",
    "                                         # category names, if i >= len(category) name, we should print empty space\n",
    "                                         # with correct padding \n",
    "        cat_str = \"    \"      # a five space head start required \n",
    "       \n",
    "        for name in cat_names:\n",
    "           \n",
    "            cat_str += '   ' if i >= len(name) else f' {name[i]} ' \n",
    "\n",
    "        if i != (max_l-1):            # until the final i set by the length of the longest category name\n",
    "                                    # go to the next line\n",
    "            cat_str += ' \\n'\n",
    "        else:\n",
    "            cat_str += ' '\n",
    "      \n",
    "        chartt += cat_str\n",
    "\n",
    "    \n",
    "    return(chartt)"
   ]
  },
  {
   "cell_type": "code",
   "execution_count": 189,
   "id": "e444aaa9",
   "metadata": {},
   "outputs": [
    {
     "name": "stdout",
     "output_type": "stream",
     "text": [
      "Percentage spent by category\n",
      "100|          \n",
      " 90|          \n",
      " 80|          \n",
      " 70|    o     \n",
      " 60|    o     \n",
      " 50|    o     \n",
      " 40|    o     \n",
      " 30|    o     \n",
      " 20|    o  o  \n",
      " 10|    o  o  \n",
      "  0| o  o  o  \n",
      "    ----------\n",
      "     B  F  E  \n",
      "     u  o  n  \n",
      "     s  o  t  \n",
      "     i  d  e  \n",
      "     n     r  \n",
      "     e     t  \n",
      "     s     a  \n",
      "     s     i  \n",
      "           n  \n",
      "           m  \n",
      "           e  \n",
      "           n  \n",
      "           t  \n"
     ]
    }
   ],
   "source": [
    "print(create_spend_chart([bizness, food, entertaintment]))"
   ]
  }
 ],
 "metadata": {
  "kernelspec": {
   "display_name": "Python 3 (ipykernel)",
   "language": "python",
   "name": "python3"
  },
  "language_info": {
   "codemirror_mode": {
    "name": "ipython",
    "version": 3
   },
   "file_extension": ".py",
   "mimetype": "text/x-python",
   "name": "python",
   "nbconvert_exporter": "python",
   "pygments_lexer": "ipython3",
   "version": "3.9.12"
  }
 },
 "nbformat": 4,
 "nbformat_minor": 5
}
