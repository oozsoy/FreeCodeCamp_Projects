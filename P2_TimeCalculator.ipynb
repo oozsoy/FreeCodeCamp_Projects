{
 "cells": [
  {
   "cell_type": "code",
   "execution_count": null,
   "id": "2b524e12",
   "metadata": {},
   "outputs": [],
   "source": [
    "st1 = \"11:43 AM\"\n",
    "st2 = \"3:00 PM\"\n",
    "st3 = \"10:10 PM\"\n",
    "st4 = \"11:43 PM\"\n",
    "\n",
    "d1 = \"00:20\"\n",
    "d2 = \"3:10\"\n",
    "d3 = \"3:30\"\n",
    "d4 = \"24:20\""
   ]
  },
  {
   "cell_type": "code",
   "execution_count": null,
   "id": "82d72688",
   "metadata": {},
   "outputs": [],
   "source": [
    "[FSH2, MR2] = st2.split(' ')\n",
    "[SH2, SM2] = FSH.split(':')\n",
    "[DH2, DM2] = d2.split(':')"
   ]
  },
  {
   "cell_type": "code",
   "execution_count": null,
   "id": "87c0ef79",
   "metadata": {},
   "outputs": [],
   "source": [
    "# adding minutes \n",
    "\n",
    "if (int(st3m[0]) + int(sd3[1])) % 60 == (int(st3m[0]) + int(sd3[1])):\n",
    "    addedmin = f\"{int(st3m[0]) + int(sd3[1])}\"\n",
    "    \n",
    "else:\n",
    "    remainder = f'{(int(st3m[0]) + int(sd3[1])) % 60}'\n",
    "        \n",
    "    if len(remainder) > 1:\n",
    "        addedmin = remainder\n",
    "    else:\n",
    "        addedmin = f\"{0}\"f'{remainder}'\n",
    "\n",
    "    "
   ]
  },
  {
   "cell_type": "code",
   "execution_count": 363,
   "id": "d777f96b",
   "metadata": {},
   "outputs": [],
   "source": [
    "def add_time(start, duration, *args):\n",
    "    \n",
    "    days = ['Monday', 'Tuesday', 'Wednesday', 'Thursday', 'Friday', 'Saturday', 'Sunday']\n",
    "    \n",
    "    [FSH, MR] = start.split(\" \")\n",
    "    [SH, SM] = FSH.split(\":\")\n",
    "    [DH, DM] = duration.split(\":\")\n",
    "    \n",
    "    totmin = int(SM) + int(DM) \n",
    "    tothour = int(SH) + int(DH)\n",
    "    \n",
    "    future_days = 0\n",
    "    \n",
    "    if totmin % 60 != totmin:    # % is the mod: if totmin < 60, it should return totmin\n",
    "        \n",
    "                                      \n",
    "        remaindermin = f'{totmin % 60}'\n",
    "        tothour += 1             # if totmin > 60, an extra hour should be added to the total hour  \n",
    "        \n",
    "        if len(remaindermin) > 1:\n",
    "            \n",
    "            totmin = remaindermin\n",
    "        \n",
    "        else:\n",
    "            totmin = f\"{0}\"f'{remaindermin}'\n",
    "    \n",
    "    else:                              # if totalmin < 60, i.e totmin % 60 == totmin\n",
    "        totmin = f\"{totmin}\".zfill(2)  # generate a string of 2 digits by filling it with 0 on the left if possible\n",
    "                                       # e.g for '10' the command on the left do not have any influence but\n",
    "                                       # but for single digit strings like '1', '2', ... ---> '01', '02', ...\n",
    "    \n",
    "    if tothour >= 12:\n",
    "        \n",
    "        times = tothour // 12  # if tothour > 12, find how many 12's in there\n",
    "        remainh = tothour % 12  # remainder sets the tothour for tothour > 12 because of '12' base clock \n",
    "                                # system we are using, e.g 6:00 AM + 7:20 --> 1:20 PM\n",
    "        \n",
    "        if remainh > 0:         # remainder is >0 for tothour>0, for those cases\n",
    "            tothour = remainh   # set tothour = remainder otherwise tothour is defined as above\n",
    "            \n",
    "        else:\n",
    "            tothour = 12 # remainder = 0 for tothour 12,24,36,48 for those cases\n",
    "                         # set tothour to 12\n",
    "                \n",
    "        if times > 0:\n",
    "            if MR == 'PM':\n",
    "                \n",
    "                future_days = ((times - 1) // 2) + 1    # to cover the 'next day' case with times = 1\n",
    "                                                        # when time moves from being PM to AM by a tothour>=12 case\n",
    "                                                        # e.g 6:00 PM + 7:20 --> 1:20 AM (next day)\n",
    "            else:\n",
    "                future_days = times // 2\n",
    "                \n",
    "        if times > 0 and times % 2 != 0: # times should be > 0 and odd, so that AM --> PM and vice versa\n",
    "            \n",
    "            if MR == 'PM':\n",
    "                MR = 'AM'\n",
    "            elif MR == 'AM': \n",
    "                MR = 'PM'\n",
    "    \n",
    "                   \n",
    "    new_time = str(tothour) + ':' + str(totmin) + ' ' + f\"{MR}\" \n",
    "    \n",
    "    if args:\n",
    "        day = args[0].title()\n",
    "        index = days.index(day)\n",
    "        index += future_days\n",
    "        if index > 6:\n",
    "            index = index - (index // 7) * 7\n",
    "        day = days[index]\n",
    "            \n",
    "        new_time += f\", {day}\"\n",
    "        \n",
    "    if future_days == 1:\n",
    "        new_time += \" (next day)\"\n",
    "    elif future_days > 1:\n",
    "        new_time += f\" ({future_days} days later)\"\n",
    "               \n",
    "    return new_time\n",
    "    "
   ]
  },
  {
   "cell_type": "code",
   "execution_count": 364,
   "id": "52a7ec04",
   "metadata": {},
   "outputs": [
    {
     "name": "stdout",
     "output_type": "stream",
     "text": [
      "6:10 PM\n",
      "2:02 PM, Monday\n",
      "12:03 PM\n",
      "1:40 AM (next day)\n",
      "12:03 AM, Wednesday (2 days later)\n",
      "7:42 AM (9 days later)\n",
      "5:01 AM\n",
      "6:18 AM, Monday (20 days later)\n"
     ]
    }
   ],
   "source": [
    "print(add_time(\"3:00 PM\", \"3:10\"))\n",
    "print(add_time(\"11:30 AM\", \"2:32\", \"Monday\"))\n",
    "print(add_time(\"11:43 AM\", \"00:20\"))\n",
    "print(add_time('10:10 PM', '3:30'))\n",
    "print(add_time(\"11:43 PM\", \"24:20\", \"MOnDay\"))\n",
    "print(add_time(\"6:30 PM\", \"205:12\"))\n",
    "print(add_time(\"5:01 AM\", \"0:00\"))\n",
    "print(add_time(\"8:16 PM\", \"466:02\", \"tuesday\"))"
   ]
  },
  {
   "cell_type": "code",
   "execution_count": 313,
   "id": "87c7929a",
   "metadata": {},
   "outputs": [
    {
     "data": {
      "text/plain": [
       "19"
      ]
     },
     "execution_count": 313,
     "metadata": {},
     "output_type": "execute_result"
    }
   ],
   "source": [
    "466//24"
   ]
  },
  {
   "cell_type": "code",
   "execution_count": 320,
   "id": "79dab985",
   "metadata": {},
   "outputs": [],
   "source": [
    "st = '10'"
   ]
  },
  {
   "cell_type": "code",
   "execution_count": 321,
   "id": "fdc243bf",
   "metadata": {},
   "outputs": [
    {
     "data": {
      "text/plain": [
       "'10'"
      ]
     },
     "execution_count": 321,
     "metadata": {},
     "output_type": "execute_result"
    }
   ],
   "source": [
    "st.zfill(2)"
   ]
  },
  {
   "cell_type": "code",
   "execution_count": 322,
   "id": "ae32ce9c",
   "metadata": {},
   "outputs": [
    {
     "data": {
      "text/plain": [
       "0"
      ]
     },
     "execution_count": 322,
     "metadata": {},
     "output_type": "execute_result"
    }
   ],
   "source": [
    "12 % 12"
   ]
  },
  {
   "cell_type": "code",
   "execution_count": 323,
   "id": "7f95c1a2",
   "metadata": {},
   "outputs": [
    {
     "data": {
      "text/plain": [
       "1"
      ]
     },
     "execution_count": 323,
     "metadata": {},
     "output_type": "execute_result"
    }
   ],
   "source": [
    "13 % 12"
   ]
  },
  {
   "cell_type": "code",
   "execution_count": 325,
   "id": "efe6aab1",
   "metadata": {},
   "outputs": [
    {
     "data": {
      "text/plain": [
       "1"
      ]
     },
     "execution_count": 325,
     "metadata": {},
     "output_type": "execute_result"
    }
   ],
   "source": [
    "25 % 12"
   ]
  },
  {
   "cell_type": "code",
   "execution_count": 334,
   "id": "3d2884b0",
   "metadata": {},
   "outputs": [
    {
     "data": {
      "text/plain": [
       "11"
      ]
     },
     "execution_count": 334,
     "metadata": {},
     "output_type": "execute_result"
    }
   ],
   "source": [
    "(24 + 11) % 12"
   ]
  },
  {
   "cell_type": "code",
   "execution_count": 340,
   "id": "a1a56a52",
   "metadata": {},
   "outputs": [
    {
     "data": {
      "text/plain": [
       "0"
      ]
     },
     "execution_count": 340,
     "metadata": {},
     "output_type": "execute_result"
    }
   ],
   "source": [
    "0//2"
   ]
  },
  {
   "cell_type": "code",
   "execution_count": 352,
   "id": "a60eb43f",
   "metadata": {},
   "outputs": [
    {
     "data": {
      "text/plain": [
       "0"
      ]
     },
     "execution_count": 352,
     "metadata": {},
     "output_type": "execute_result"
    }
   ],
   "source": [
    "1 // 2"
   ]
  },
  {
   "cell_type": "code",
   "execution_count": 362,
   "id": "3c095e89",
   "metadata": {},
   "outputs": [
    {
     "data": {
      "text/plain": [
       "4"
      ]
     },
     "execution_count": 362,
     "metadata": {},
     "output_type": "execute_result"
    }
   ],
   "source": [
    "((7 - 1) // 2) + 1 "
   ]
  },
  {
   "cell_type": "code",
   "execution_count": 365,
   "id": "9a4ca2b6",
   "metadata": {},
   "outputs": [
    {
     "data": {
      "text/plain": [
       "0"
      ]
     },
     "execution_count": 365,
     "metadata": {},
     "output_type": "execute_result"
    }
   ],
   "source": [
    "2 % 2"
   ]
  },
  {
   "cell_type": "code",
   "execution_count": null,
   "id": "312833ed",
   "metadata": {},
   "outputs": [],
   "source": []
  }
 ],
 "metadata": {
  "kernelspec": {
   "display_name": "Python 3 (ipykernel)",
   "language": "python",
   "name": "python3"
  },
  "language_info": {
   "codemirror_mode": {
    "name": "ipython",
    "version": 3
   },
   "file_extension": ".py",
   "mimetype": "text/x-python",
   "name": "python",
   "nbconvert_exporter": "python",
   "pygments_lexer": "ipython3",
   "version": "3.9.12"
  }
 },
 "nbformat": 4,
 "nbformat_minor": 5
}
